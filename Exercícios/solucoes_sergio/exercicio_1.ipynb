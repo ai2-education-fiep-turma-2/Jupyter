{
 "cells": [
  {
   "cell_type": "markdown",
   "metadata": {},
   "source": [
    "# Image processing in Python"
   ]
  },
  {
   "cell_type": "markdown",
   "metadata": {},
   "source": [
    "[![Forum](https://camo.githubusercontent.com/3702ca4187b681c1646389133784706f9e5770e2/68747470733a2f2f696d672e736869656c64732e696f2f62616467652f64796e616d69632f6a736f6e2e7376673f6c6162656c3d666f72756d2675726c3d6874747073253341253246253246666f72756d2e696d6167652e7363253246746167732532467363696b69742d696d6167652e6a736f6e2671756572793d2532342e746f7069635f6c6973742e746167732e302e746f7069635f636f756e7426636f6c6f72423d627269676874677265656e267375666669783d253230746f70696373266c6f676f3d646174613a696d6167652f706e673b6261736536342c6956424f5277304b47676f414141414e5355684555674141414134414141414f43415941414141665343335241414142506b6c4551565234326d335379797146555254413859324245523054447945785a2b615350494b556c50494954467a4b655157587768426c51726d4667557a4d4d464c4b5a656775427535792b2f2f31376450336e633576755064656536323939676f685559596144474f7979414371344a6d51566f46756a4f4d523737684e664f41474d2b68424f51714239546a484433367868416130345243757558654b4f7677485657494b4c396a434b326252695632383451674c384d77456a416e65656f39564e4f456142687a414c47746f5279303263496357684533346a6a35597867572b45355a346954506b4d5970504c434e593368644f5945664e624b59646d4e6e675a316a79457a77376837414962336652545139354f415a367951704759484d4d744f54676f756b745977787558734867574c4c6c2b34782b2b4b7831464a726a4c5461674137376254507659677731725271593536652b7737474e59737158364a665077693761522b593553412b4258744b4952666b664a4159676a313474704f46362b49343663342f63414d3355684d334a78794b7378694f49684830494f3653482f41314b6231574265556a626b4141414141456c46546b5375516d4343)](https://forum.image.sc/tags/scikit-image)"
   ]
  },
  {
   "cell_type": "markdown",
   "metadata": {},
   "source": [
    "[![Forum](https://camo.githubusercontent.com/2e2221ef478a57eb6c5807c766a1399068d0c8a1/68747470733a2f2f696d672e736869656c64732e696f2f62616467652f737461636b6f766572666c6f772d41736b2532307175657374696f6e732d626c75652e737667)](https://stackoverflow.com/questions/tagged/scikit-image)"
   ]
  },
  {
   "cell_type": "markdown",
   "metadata": {},
   "source": [
    "* **Website (including documentation):** <https://scikit-image.org/>\n",
    "* **OSX:** `pip install scikit-image`\n",
    "* **Anaconda:** `conda install -c conda-forge scikit-image`\n",
    "* **Windows:** Download [Windows Binaries](https://www.lfd.uci.edu/~gohlke/pythonlibs/#scikit-image)\n",
    "\n",
    "Also see [Installing scikit-image]()\n",
    "\n",
    "# Installation from source\n",
    "\n",
    "Install dependencies using:\n",
    "\n",
    "`pip install -r requirements.txt`\n",
    "\n",
    "Then, install scikit-image using:\n",
    "\n",
    "`$ pip install.`\n",
    "\n",
    "If you plan to develop the package, you may run it directly from source:\n",
    "\n",
    "`$ pip install -e . # Do this once to add package to Python path`\n",
    "\n",
    "Every time you modify Cython files, also run:\n",
    "\n",
    "`$ python setup.py build_ext -i # Build binary extensions`\n",
    "\n",
    "# License (Modified BSD)\n",
    "\n",
    "Copyright (C) 2011, the scikit-image team All rights reserved.\n",
    "\n",
    "Redistribution and use in source and binary forms, with or without modification, are permitted provided thatthe following conditions are met:\n",
    "\n",
    "    1. Redistributions of source code must retain the above copyright notice, this list of conditions and thefollowing disclaimer.\n",
    "    2. Redistributions in binary form must reproduce the above copyright notice, this list of conditions andthe following disclaimer in the documentation and/or other materials provided with the distribution.\n",
    "    3. Neither the name of skimage nor the names of its contributors may be used to endorse or promoteproducts derived from this software without specific prior written permission.\n",
    "    \n",
    "THIS SOFTWARE IS PROVIDED BY THE AUTHOR ``AS IS'' AND ANY EXPRESS OR IMPLIEDWARRANTIES, INCLUDING, BUT NOT LIMITED TO, THE IMPLIED WARRANTIES OFMERCHANTABILITY AND FITNESS FOR A PARTICULAR PURPOSE ARE DISCLAIMED. IN NOEVENT SHALL THE AUTHOR BE LIABLE FOR ANY DIRECT, INDIRECT, INCIDENTAL, SPECIAL,EXEMPLARY, OR CONSEQUENTIAL DAMAGES (INCLUDING, BUT NOT LIMITED TO,PROCUREMENT OF SUBSTITUTE GOODS OR SERVICES; LOSS OF USE, DATA, OR PROFITS; OR BUSINESS INTERRUPTION) HOWEVER CAUSED AND ON ANY THEORY OF LIABILITY,WHETHER IN CONTRACT, STRICT LIABILITY, OR TORT (INCLUDING NEGLIGENCE OROTHERWISE) ARISING IN ANY WAY OUT OF THE USE OF THIS SOFTWARE, EVEN IF ADVISEDOF THE POSSIBILITY OF SUCH DAMAGE.\n",
    "\n",
    "# Citation\n",
    "\n",
    "If you find this project useful, please cite:\n",
    "\n",
    "> Stéfan van der Walt, Johannes L. Schönberger, Juan Nunez-Iglesias, François Boulogne, JoshuaD. Warner, Neil Yager, Emmanuelle Gouillart, Tony Yu, and the scikit-image contributors.scikit-image: Image processing in Python. PeerJ 2:e453 (2014) https://doi.org/10.7717/peerj.453\n"
   ]
  },
  {
   "cell_type": "code",
   "execution_count": null,
   "metadata": {},
   "outputs": [],
   "source": []
  }
 ],
 "metadata": {
  "kernelspec": {
   "display_name": "Python 3",
   "language": "python",
   "name": "python3"
  },
  "language_info": {
   "codemirror_mode": {
    "name": "ipython",
    "version": 3
   },
   "file_extension": ".py",
   "mimetype": "text/x-python",
   "name": "python",
   "nbconvert_exporter": "python",
   "pygments_lexer": "ipython3",
   "version": "3.8.3"
  }
 },
 "nbformat": 4,
 "nbformat_minor": 4
}
