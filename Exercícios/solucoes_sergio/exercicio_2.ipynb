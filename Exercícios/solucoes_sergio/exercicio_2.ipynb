{
 "cells": [
  {
   "cell_type": "markdown",
   "metadata": {
    "slideshow": {
     "slide_type": "slide"
    }
   },
   "source": [
    "# Data Wrangling"
   ]
  },
  {
   "cell_type": "markdown",
   "metadata": {
    "slideshow": {
     "slide_type": "slide"
    }
   },
   "source": [
    "# O Que é?\n",
    "\n",
    "O termo data wrangling – também chamado de data preparation – significa preparação de dados. O conceito é relativamente recente e diz respeito ao ato de coletar, limpar, normalizar, combinar, estruturar e organizar os dados que serão analisados.\n",
    "\n",
    "É o primeiro passo para que a mensuração das informações extraídas com o trabalho de Big Data seja bem sucedida e traga apontamentos significativos para seu negócio."
   ]
  },
  {
   "cell_type": "markdown",
   "metadata": {
    "slideshow": {
     "slide_type": "slide"
    }
   },
   "source": [
    "# Como é feito?\n",
    "\n",
    "O data wrangling é uma etapa anterior ao data mining – outra metodologia de análise de dados. Usado de forma correta, esse conjunto de ações permite que a análise seja otimizada e ofereça às organizações ideias de melhorias ou mesmo de inovações.\n",
    "\n",
    "O data mining é um processo analítico complexo que tem o objetivo de explorar uma enorme quantidade de dados. Seu uso se dá principalmente nas áreas de mercado, negócios e nas pesquisas científicas.\n",
    "\n",
    "* Nesse método, é feita uma busca por padrões e sistemas relacionados entre as variáveis encontradas nos dados, validando-os a partir das informações previamente coletadas. É feito em três etapas: exploração, definição de modelo e verificação.\n",
    "\n",
    "* As ferramentas vão identificar, de forma automática, padrões e anomalias, apontando problemas ou oportunidades e garantindo às empresas mais competitividade."
   ]
  },
  {
   "cell_type": "markdown",
   "metadata": {
    "slideshow": {
     "slide_type": "slide"
    }
   },
   "source": [
    "# Quais os seus benefícios?\n",
    "\n",
    "A coleta de dados adequados por meio do data wrangling é fundamental para mensurar informações corretas sobre sua empresa, área de atuação, clientes, concorrentes e identificar oportunidades.\n",
    "\n",
    "Entre os benefícios de uma boa execução de data wrangling estão:\n",
    "\n",
    "1. Base inicial de qualidade para a elaboração de vários projetos da empresa – como os dados coletados são limpos, verificados e estruturados, eles podem servir de base para diferentes projetos, usando a ciência de dados para as diversas áreas que compões sua instituições.\n",
    "\n",
    "1. Mais inovação com menos tempo – o processo é todo automatizado e por isso é possível ter insights de novos projetos ou ideias de inovação de forma mais rápida, ou até mesmo integrada com outras áreas.\n",
    "\n",
    "1. Dados confiáveis para o negócio – com as ferramentas adequadas, os analistas conseguem as melhores informações, contribuindo para a gestão de excelência e aperfeiçoamento de processos de forma global."
   ]
  },
  {
   "cell_type": "markdown",
   "metadata": {
    "slideshow": {
     "slide_type": "slide"
    }
   },
   "source": [
    "# Dúvidas?\n",
    "\n",
    "![Data Wrangling](https://profap.com.br/wp-content/uploads/2018/03/data-wrangling-788x445.jpg)"
   ]
  },
  {
   "cell_type": "code",
   "execution_count": null,
   "metadata": {
    "slideshow": {
     "slide_type": "-"
    }
   },
   "outputs": [],
   "source": []
  },
  {
   "cell_type": "code",
   "execution_count": null,
   "metadata": {},
   "outputs": [],
   "source": []
  },
  {
   "cell_type": "code",
   "execution_count": null,
   "metadata": {},
   "outputs": [],
   "source": []
  }
 ],
 "metadata": {
  "celltoolbar": "Slideshow",
  "kernelspec": {
   "display_name": "Python 3",
   "language": "python",
   "name": "python3"
  },
  "language_info": {
   "codemirror_mode": {
    "name": "ipython",
    "version": 3
   },
   "file_extension": ".py",
   "mimetype": "text/x-python",
   "name": "python",
   "nbconvert_exporter": "python",
   "pygments_lexer": "ipython3",
   "version": "3.8.3"
  }
 },
 "nbformat": 4,
 "nbformat_minor": 4
}
